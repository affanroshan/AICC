{
  "nbformat": 4,
  "nbformat_minor": 0,
  "metadata": {
    "colab": {
      "provenance": [],
      "authorship_tag": "ABX9TyP/dnoZ3bY7C+4nDis9iuFj",
      "include_colab_link": true
    },
    "kernelspec": {
      "name": "python3",
      "display_name": "Python 3"
    },
    "language_info": {
      "name": "python"
    }
  },
  "cells": [
    {
      "cell_type": "markdown",
      "metadata": {
        "id": "view-in-github",
        "colab_type": "text"
      },
      "source": [
        "<a href=\"https://colab.research.google.com/github/affanroshan/AICC/blob/main/EXP1.ipynb\" target=\"_parent\"><img src=\"https://colab.research.google.com/assets/colab-badge.svg\" alt=\"Open In Colab\"/></a>"
      ]
    },
    {
      "cell_type": "code",
      "execution_count": null,
      "metadata": {
        "colab": {
          "base_uri": "https://localhost:8080/"
        },
        "id": "oX2SQ2XnG31h",
        "outputId": "c0bcfbea-b3f1-4c0f-86c0-db8bdf039089"
      },
      "outputs": [
        {
          "output_type": "stream",
          "name": "stdout",
          "text": [
            "Move disk 1 from rod A to rod C\n",
            "Move disk 2 from rod A to rod B\n",
            "Move disk 1 from rod C to rod B\n",
            "Move disk 3 from rod A to rod C\n",
            "Move disk 1 from rod B to rod A\n",
            "Move disk 2 from rod B to rod C\n",
            "Move disk 1 from rod A to rod C\n"
          ]
        }
      ],
      "source": [
        "def TowerOfHanoi(n, from_rod, to_rod, aux_rod):\n",
        "\tif n == 0:\n",
        "\t\treturn\n",
        "\tTowerOfHanoi(n-1, from_rod, aux_rod, to_rod)\n",
        "\tprint(\"Move disk\", n, \"from rod\", from_rod, \"to rod\", to_rod)\n",
        "\tTowerOfHanoi(n-1, aux_rod, to_rod, from_rod)\n",
        "\n",
        "\n",
        "N = 3\n",
        "\n",
        "\n",
        "TowerOfHanoi(N, 'A', 'C', 'B')\n",
        "\n"
      ]
    },
    {
      "cell_type": "code",
      "source": [
        "\n",
        "global N\n",
        "N = 4\n",
        "\n",
        "\n",
        "def printSolution(board):\n",
        "\tfor i in range(N):\n",
        "\t\tfor j in range(N):\n",
        "\t\t\tif board[i][j] == 1:\n",
        "\t\t\t\tprint(\"Q\",end=\" \")\n",
        "\t\t\telse:\n",
        "\t\t\t\tprint(\".\",end=\" \")\n",
        "\t\tprint()\n",
        "\n",
        "\n",
        "def isSafe(board, row, col):\n",
        "\n",
        "\n",
        "\tfor i in range(col):\n",
        "\t\tif board[row][i] == 1:\n",
        "\t\t\treturn False\n",
        "\n",
        "\n",
        "\tfor i, j in zip(range(row, -1, -1),\n",
        "\t\t\t\t\trange(col, -1, -1)):\n",
        "\t\tif board[i][j] == 1:\n",
        "\t\t\treturn False\n",
        "\n",
        "\n",
        "\tfor i, j in zip(range(row, N, 1),\n",
        "\t\t\t\t\trange(col, -1, -1)):\n",
        "\t\tif board[i][j] == 1:\n",
        "\t\t\treturn False\n",
        "\n",
        "\treturn True\n",
        "\n",
        "\n",
        "def solveNQUtil(board, col):\n",
        "\n",
        "\n",
        "\tif col >= N:\n",
        "\t\treturn True\n",
        "\n",
        "\n",
        "\tfor i in range(N):\n",
        "\n",
        "\t\tif isSafe(board, i, col):\n",
        "\n",
        "\n",
        "\t\t\tboard[i][col] = 1\n",
        "\n",
        "\n",
        "\t\t\tif solveNQUtil(board, col + 1) == True:\n",
        "\t\t\t\treturn True\n",
        "\n",
        "\t\t\tboard[i][col] = 0\n",
        "\n",
        "\n",
        "\treturn False\n",
        "\n",
        "\n",
        "\n",
        "def solveNQ():\n",
        "\tboard = [[0, 0, 0, 0],\n",
        "\t\t\t[0, 0, 0, 0],\n",
        "\t\t\t[0, 0, 0, 0],\n",
        "\t\t\t[0, 0, 0, 0]]\n",
        "\n",
        "\tif solveNQUtil(board, 0) == False:\n",
        "\t\tprint(\"Solution does not exist\")\n",
        "\t\treturn False\n",
        "\n",
        "\tprintSolution(board)\n",
        "\treturn True\n",
        "\n",
        "\n",
        "if __name__ == '__main__':\n",
        "\tsolveNQ()\n",
        "\n"
      ],
      "metadata": {
        "colab": {
          "base_uri": "https://localhost:8080/"
        },
        "id": "bf5pDuc2HMC6",
        "outputId": "06b3a1cc-74de-4832-d8c2-77f3b5891913"
      },
      "execution_count": null,
      "outputs": [
        {
          "output_type": "stream",
          "name": "stdout",
          "text": [
            ". . Q . \n",
            "Q . . . \n",
            ". . . Q \n",
            ". Q . . \n"
          ]
        }
      ]
    }
  ]
}